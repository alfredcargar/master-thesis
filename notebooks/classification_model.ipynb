{
 "cells": [
  {
   "cell_type": "markdown",
   "id": "cef10233-3aaa-46a5-b12d-84324f9e1777",
   "metadata": {},
   "source": [
    "# Capacity prediction\n",
    "\n",
    "## Notebook 5: Classification Model \n",
    "\n",
    "**Author:** ACG  \n",
    "**Date:** `2024/06`  \n",
    "**Version:** 1.0  \n",
    "\n",
    "---\n",
    "\n",
    "### Table of Contents"
   ]
  },
  {
   "cell_type": "code",
   "execution_count": null,
   "id": "ff85e36f-7c4c-420c-a235-f482653b4ef1",
   "metadata": {},
   "outputs": [],
   "source": []
  }
 ],
 "metadata": {
  "kernelspec": {
   "display_name": "Python 3 (ipykernel)",
   "language": "python",
   "name": "python3"
  },
  "language_info": {
   "codemirror_mode": {
    "name": "ipython",
    "version": 3
   },
   "file_extension": ".py",
   "mimetype": "text/x-python",
   "name": "python",
   "nbconvert_exporter": "python",
   "pygments_lexer": "ipython3",
   "version": "3.9.19"
  }
 },
 "nbformat": 4,
 "nbformat_minor": 5
}
